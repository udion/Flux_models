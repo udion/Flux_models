{
 "cells": [
  {
   "cell_type": "markdown",
   "metadata": {
    "nbpresent": {
     "id": "00169520-0e09-4691-810e-b9140817257c"
    }
   },
   "source": [
    "## Defining basic layers"
   ]
  },
  {
   "cell_type": "code",
   "execution_count": 1,
   "metadata": {
    "nbpresent": {
     "id": "f7677dff-0952-4f6b-a590-4eb3942181fd"
    }
   },
   "outputs": [
    {
     "data": {
      "text/plain": [
       "1.8384507109677617"
      ]
     },
     "execution_count": 1,
     "metadata": {},
     "output_type": "execute_result"
    }
   ],
   "source": [
    "W = rand(2, 5)\n",
    "b = rand(2)\n",
    "\n",
    "predict(x) = W*x .+ b\n",
    "loss(x, y) = sum((predict(x) .- y).^2)\n",
    "\n",
    "x, y = rand(5), rand(2)\n",
    "loss(x, y)"
   ]
  },
  {
   "cell_type": "code",
   "execution_count": 2,
   "metadata": {
    "collapsed": true,
    "nbpresent": {
     "id": "350ec084-2f4b-4da8-abec-0693155d4a3b"
    }
   },
   "outputs": [],
   "source": [
    "using Flux.Tracker\n",
    "\n",
    "W = param(W)\n",
    "b = param(b)\n",
    "\n",
    "l = loss(x,y)\n",
    "back!(l)"
   ]
  },
  {
   "cell_type": "code",
   "execution_count": 3,
   "metadata": {
    "nbpresent": {
     "id": "67699d3c-1af4-455c-b36c-ff406e932b1a"
    }
   },
   "outputs": [
    {
     "data": {
      "text/plain": [
       "Tracked 0-dimensional Array{Float64,0}:\n",
       "0.847301"
      ]
     },
     "execution_count": 3,
     "metadata": {},
     "output_type": "execute_result"
    }
   ],
   "source": [
    "W.data .-= 0.1(W.grad)\n",
    "\n",
    "loss(x, y)"
   ]
  },
  {
   "cell_type": "code",
   "execution_count": 10,
   "metadata": {
    "nbpresent": {
     "id": "b9ceb1f2-bfcc-424a-a743-7b9729b8d76a"
    }
   },
   "outputs": [
    {
     "data": {
      "text/plain": [
       "4-element Array{Float64,1}:\n",
       "  2.71828\n",
       "  7.38906\n",
       " 20.0855 \n",
       " 54.5982 "
      ]
     },
     "execution_count": 10,
     "metadata": {},
     "output_type": "execute_result"
    }
   ],
   "source": [
    "exp.([1,2,3,4])"
   ]
  },
  {
   "cell_type": "code",
   "execution_count": 4,
   "metadata": {
    "nbpresent": {
     "id": "b1b9faad-8f51-4738-9215-d7c5255e373a"
    }
   },
   "outputs": [
    {
     "data": {
      "text/plain": [
       "model (generic function with 1 method)"
      ]
     },
     "execution_count": 4,
     "metadata": {},
     "output_type": "execute_result"
    }
   ],
   "source": [
    "using Flux.NNlib\n",
    "function linear(in, out)\n",
    "  W = param(randn(out, in))\n",
    "  b = param(randn(out))\n",
    "  x -> W * x .+ b\n",
    "end\n",
    "\n",
    "linear1 = linear(5, 3) # we can access linear1.W etc\n",
    "linear2 = linear(3, 2)\n",
    "\n",
    "model(x) = linear2(σ.(linear1(x)))"
   ]
  },
  {
   "cell_type": "code",
   "execution_count": 6,
   "metadata": {
    "nbpresent": {
     "id": "2d6dac99-8190-4ab3-8056-15cf30233ddd"
    }
   },
   "outputs": [
    {
     "data": {
      "text/plain": [
       "Tracked 2-element Array{Float64,1}:\n",
       "  0.215172\n",
       " -0.537576"
      ]
     },
     "execution_count": 6,
     "metadata": {},
     "output_type": "execute_result"
    }
   ],
   "source": [
    "model(rand(5))"
   ]
  }
 ],
 "metadata": {
  "kernelspec": {
   "display_name": "Julia 0.6.2",
   "language": "julia",
   "name": "julia-0.6"
  },
  "language_info": {
   "file_extension": ".jl",
   "mimetype": "application/julia",
   "name": "julia",
   "version": "0.6.2"
  }
 },
 "nbformat": 4,
 "nbformat_minor": 2
}
